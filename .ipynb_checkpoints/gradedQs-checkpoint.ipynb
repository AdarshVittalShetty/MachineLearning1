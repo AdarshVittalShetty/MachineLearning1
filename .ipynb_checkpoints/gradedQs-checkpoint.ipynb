{
 "cells": [
  {
   "cell_type": "code",
   "execution_count": 10,
   "metadata": {},
   "outputs": [
    {
     "name": "stdout",
     "output_type": "stream",
     "text": [
      "24\n",
      "even\n"
     ]
    }
   ],
   "source": [
    "n = 7890\n",
    "\n",
    "def oddOrEven(no):\n",
    "    sum = 0\n",
    "    while no!=0:\n",
    "        sum = sum + no%10\n",
    "        no = no//10\n",
    "    print(sum)\n",
    "    if sum%2 == 0:\n",
    "        return \"even\"\n",
    "    else:\n",
    "        return \"odd\"\n",
    "    \n",
    "strng = oddOrEven(n)\n",
    "\n",
    "print(strng)\n",
    "\n",
    "        \n",
    "        \n",
    "    \n",
    "    "
   ]
  },
  {
   "cell_type": "code",
   "execution_count": 50,
   "metadata": {},
   "outputs": [
    {
     "name": "stdout",
     "output_type": "stream",
     "text": [
      "huh\n"
     ]
    }
   ],
   "source": [
    "import math\n",
    "inpu = [\"pasta\",\"huh\",\"huh\",\"huh\",\"paratha\",\"huh\",\"huh\"]\n",
    "length = len(inpu)\n",
    "minVote = length/2 + 1\n",
    "minVote\n",
    "uniqVals = set(inpu)\n",
    "uniqValsMap = {x : inpu.count(x) for x in uniqVals}\n",
    "\n",
    "highest = [(list(uniqValsMap.keys()))[0],uniqValsMap[(list(uniqValsMap.keys()))[0]]]\n",
    "\n",
    "for i in uniqValsMap.keys():\n",
    "    if (uniqValsMap[i] > highest[1]):\n",
    "        highest[0] = i\n",
    "        highest[1] = uniqValsMap[highest[0]]\n",
    "\n",
    "if highest[1] >= minVote :\n",
    "    print (highest[0])\n",
    "else:\n",
    "    print(\"NOTA\")\n",
    "\n"
   ]
  },
  {
   "cell_type": "code",
   "execution_count": null,
   "metadata": {},
   "outputs": [],
   "source": []
  }
 ],
 "metadata": {
  "kernelspec": {
   "display_name": "Python 3",
   "language": "python",
   "name": "python3"
  },
  "language_info": {
   "codemirror_mode": {
    "name": "ipython",
    "version": 3
   },
   "file_extension": ".py",
   "mimetype": "text/x-python",
   "name": "python",
   "nbconvert_exporter": "python",
   "pygments_lexer": "ipython3",
   "version": "3.7.3"
  }
 },
 "nbformat": 4,
 "nbformat_minor": 2
}
