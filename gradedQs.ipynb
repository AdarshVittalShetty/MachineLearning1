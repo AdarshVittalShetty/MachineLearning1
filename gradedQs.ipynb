{
 "cells": [
  {
   "cell_type": "code",
   "execution_count": 10,
   "metadata": {},
   "outputs": [
    {
     "name": "stdout",
     "output_type": "stream",
     "text": [
      "24\n",
      "even\n"
     ]
    }
   ],
   "source": [
    "n = 7890\n",
    "\n",
    "def oddOrEven(no):\n",
    "    sum = 0\n",
    "    while no!=0:\n",
    "        sum = sum + no%10\n",
    "        no = no//10\n",
    "    print(sum)\n",
    "    if sum%2 == 0:\n",
    "        return \"even\"\n",
    "    else:\n",
    "        return \"odd\"\n",
    "    \n",
    "strng = oddOrEven(n)\n",
    "\n",
    "print(strng)\n",
    "\n",
    "        \n",
    "        \n",
    "    \n",
    "    "
   ]
  },
  {
   "cell_type": "code",
   "execution_count": 50,
   "metadata": {},
   "outputs": [
    {
     "name": "stdout",
     "output_type": "stream",
     "text": [
      "huh\n"
     ]
    }
   ],
   "source": [
    "import math\n",
    "inpu = [\"pasta\",\"huh\",\"huh\",\"huh\",\"paratha\",\"huh\",\"huh\"]\n",
    "length = len(inpu)\n",
    "minVote = length/2 + 1\n",
    "minVote\n",
    "uniqVals = set(inpu)\n",
    "uniqValsMap = {x : inpu.count(x) for x in uniqVals}\n",
    "\n",
    "highest = [(list(uniqValsMap.keys()))[0],uniqValsMap[(list(uniqValsMap.keys()))[0]]]\n",
    "\n",
    "for i in uniqValsMap.keys():\n",
    "    if (uniqValsMap[i] > highest[1]):\n",
    "        highest[0] = i\n",
    "        highest[1] = uniqValsMap[highest[0]]\n",
    "\n",
    "if highest[1] >= minVote :\n",
    "    print (highest[0])\n",
    "else:\n",
    "    print(\"NOTA\")\n",
    "\n"
   ]
  },
  {
   "cell_type": "code",
   "execution_count": 41,
   "metadata": {},
   "outputs": [
    {
     "data": {
      "text/plain": [
       "'Restaurant'"
      ]
     },
     "execution_count": 41,
     "metadata": {},
     "output_type": "execute_result"
    }
   ],
   "source": [
    "import pandas as pd\n",
    "import numpy as np\n",
    "wholesale = pd.read_csv('https://media-doselect.s3.amazonaws.com/generic/OqwpypRKN09x5GYej2LvVrprn/Wholesale_Data_Cleaned.csv')\n",
    "wholesale['total'] = wholesale.Fresh + wholesale.Milk + wholesale.Grocery + wholesale.Frozen + wholesale.Detergents_Paper + wholesale.Delicassen\n",
    "\n",
    "wholesale.loc[:,'sum1'] = wholesale.groupby('Channel')['total'].transform('sum')\n",
    "wholesale = wholesale.sort_values(by=['sum1'])\n",
    "#df = wholesale.head(1)\n",
    "ls = wholesale.Channel\n",
    "ls.iloc[0]"
   ]
  },
  {
   "cell_type": "code",
   "execution_count": 80,
   "metadata": {},
   "outputs": [
    {
     "name": "stdout",
     "output_type": "stream",
     "text": [
      "            Rating  Installs\n",
      "Rating    1.000000  0.051355\n",
      "Installs  0.051355  1.000000\n"
     ]
    }
   ],
   "source": [
    "df=pd.read_csv(\"https://media-doselect.s3.amazonaws.com/generic/8NMooe4G0ENEe8z9q5ZvaZA7/googleplaystore.csv\")\n",
    "#add your cleaning code here\n",
    "df.Installs = df.Installs.str.strip('+')\n",
    "df.Installs = df.Installs.str.strip(',')\n",
    "df = df[df.Installs != \"Free\"]\n",
    "df = df[df.Installs != \"0Free\"]\n",
    "df = df[~df.Rating.isnull()]\n",
    "df['Installs'] = df['Installs'].str.replace(',', '').astype(float)\n",
    "print(df.corr())\n",
    "\n"
   ]
  },
  {
   "cell_type": "code",
   "execution_count": null,
   "metadata": {},
   "outputs": [],
   "source": []
  }
 ],
 "metadata": {
  "kernelspec": {
   "display_name": "Python 3",
   "language": "python",
   "name": "python3"
  },
  "language_info": {
   "codemirror_mode": {
    "name": "ipython",
    "version": 3
   },
   "file_extension": ".py",
   "mimetype": "text/x-python",
   "name": "python",
   "nbconvert_exporter": "python",
   "pygments_lexer": "ipython3",
   "version": "3.7.3"
  }
 },
 "nbformat": 4,
 "nbformat_minor": 2
}
